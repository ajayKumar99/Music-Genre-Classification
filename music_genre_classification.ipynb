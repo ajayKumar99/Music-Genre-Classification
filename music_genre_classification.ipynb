{
  "nbformat": 4,
  "nbformat_minor": 0,
  "metadata": {
    "colab": {
      "name": "music_genre_classification.ipynb",
      "version": "0.3.2",
      "provenance": [],
      "collapsed_sections": []
    },
    "kernelspec": {
      "name": "python3",
      "display_name": "Python 3"
    },
    "accelerator": "GPU"
  },
  "cells": [
    {
      "cell_type": "code",
      "metadata": {
        "id": "urkaWe-kSPNy",
        "colab_type": "code",
        "outputId": "980681fa-eacd-407b-9daa-5a9bbde1cc23",
        "colab": {
          "base_uri": "https://localhost:8080/",
          "height": 72
        }
      },
      "source": [
        "!pip install -q tensorflow==2.0.0-beta1"
      ],
      "execution_count": 1,
      "outputs": [
        {
          "output_type": "stream",
          "text": [
            "\u001b[K     |████████████████████████████████| 87.9MB 570kB/s \n",
            "\u001b[K     |████████████████████████████████| 501kB 56.8MB/s \n",
            "\u001b[K     |████████████████████████████████| 3.1MB 49.3MB/s \n",
            "\u001b[?25h"
          ],
          "name": "stdout"
        }
      ]
    },
    {
      "cell_type": "code",
      "metadata": {
        "id": "EJxH9yutSfuA",
        "colab_type": "code",
        "colab": {}
      },
      "source": [
        "import tensorflow as tf\n",
        "import numpy as np\n",
        "import librosa\n",
        "import librosa.display\n",
        "import matplotlib.pyplot as plt\n",
        "import pandas as pd\n",
        "import os"
      ],
      "execution_count": 0,
      "outputs": []
    },
    {
      "cell_type": "code",
      "metadata": {
        "id": "9x29knKvSpyC",
        "colab_type": "code",
        "outputId": "560365c6-caec-4461-d087-029513bdb677",
        "colab": {
          "base_uri": "https://localhost:8080/",
          "height": 35
        }
      },
      "source": [
        "tf.__version__"
      ],
      "execution_count": 3,
      "outputs": [
        {
          "output_type": "execute_result",
          "data": {
            "text/plain": [
              "'2.0.0-beta1'"
            ]
          },
          "metadata": {
            "tags": []
          },
          "execution_count": 3
        }
      ]
    },
    {
      "cell_type": "code",
      "metadata": {
        "id": "S7zr0vAaTfZG",
        "colab_type": "code",
        "outputId": "cfe7e615-fa72-453a-cbb0-309bd15bb29d",
        "colab": {
          "base_uri": "https://localhost:8080/",
          "height": 54
        }
      },
      "source": [
        "data_root = tf.keras.utils.get_file('Audio', 'https://os.unil.cloud.switch.ch/fma/fma_small.zip' , extract=True)"
      ],
      "execution_count": 14,
      "outputs": [
        {
          "output_type": "stream",
          "text": [
            "Downloading data from https://os.unil.cloud.switch.ch/fma/fma_small.zip\n",
            "7679598592/7679594875 [==============================] - 285s 0us/step\n"
          ],
          "name": "stdout"
        }
      ]
    },
    {
      "cell_type": "code",
      "metadata": {
        "id": "T2R_yQcKXlNB",
        "colab_type": "code",
        "colab": {}
      },
      "source": [
        "!cp -r ~/.keras/datasets/fma_small /content"
      ],
      "execution_count": 0,
      "outputs": []
    },
    {
      "cell_type": "code",
      "metadata": {
        "id": "RaJXAtnLxjNO",
        "colab_type": "code",
        "outputId": "ac8b421b-b22c-4279-cead-e24dcfbc3bf3",
        "colab": {
          "base_uri": "https://localhost:8080/",
          "height": 54
        }
      },
      "source": [
        "meta_data = tf.keras.utils.get_file('Meta' , 'https://os.unil.cloud.switch.ch/fma/fma_metadata.zip' , extract=True)"
      ],
      "execution_count": 16,
      "outputs": [
        {
          "output_type": "stream",
          "text": [
            "Downloading data from https://os.unil.cloud.switch.ch/fma/fma_metadata.zip\n",
            "358416384/358412441 [==============================] - 14s 0us/step\n"
          ],
          "name": "stdout"
        }
      ]
    },
    {
      "cell_type": "code",
      "metadata": {
        "id": "4D9JJexGcVDA",
        "colab_type": "code",
        "colab": {}
      },
      "source": [
        "!cp ~/.keras/datasets/fma_metadata/tracks.csv /content"
      ],
      "execution_count": 0,
      "outputs": []
    },
    {
      "cell_type": "code",
      "metadata": {
        "id": "mT1ga4uncbM0",
        "colab_type": "code",
        "outputId": "b74b24e3-a84f-4d37-afbc-53bb1c1f524c",
        "colab": {
          "base_uri": "https://localhost:8080/",
          "height": 196
        }
      },
      "source": [
        "genres_df = pd.read_csv('genres.csv')\n",
        "genres_df.head()"
      ],
      "execution_count": 0,
      "outputs": [
        {
          "output_type": "execute_result",
          "data": {
            "text/html": [
              "<div>\n",
              "<style scoped>\n",
              "    .dataframe tbody tr th:only-of-type {\n",
              "        vertical-align: middle;\n",
              "    }\n",
              "\n",
              "    .dataframe tbody tr th {\n",
              "        vertical-align: top;\n",
              "    }\n",
              "\n",
              "    .dataframe thead th {\n",
              "        text-align: right;\n",
              "    }\n",
              "</style>\n",
              "<table border=\"1\" class=\"dataframe\">\n",
              "  <thead>\n",
              "    <tr style=\"text-align: right;\">\n",
              "      <th></th>\n",
              "      <th>genre_id</th>\n",
              "      <th>#tracks</th>\n",
              "      <th>parent</th>\n",
              "      <th>title</th>\n",
              "      <th>top_level</th>\n",
              "    </tr>\n",
              "  </thead>\n",
              "  <tbody>\n",
              "    <tr>\n",
              "      <th>0</th>\n",
              "      <td>1</td>\n",
              "      <td>8693</td>\n",
              "      <td>38</td>\n",
              "      <td>Avant-Garde</td>\n",
              "      <td>38</td>\n",
              "    </tr>\n",
              "    <tr>\n",
              "      <th>1</th>\n",
              "      <td>2</td>\n",
              "      <td>5271</td>\n",
              "      <td>0</td>\n",
              "      <td>International</td>\n",
              "      <td>2</td>\n",
              "    </tr>\n",
              "    <tr>\n",
              "      <th>2</th>\n",
              "      <td>3</td>\n",
              "      <td>1752</td>\n",
              "      <td>0</td>\n",
              "      <td>Blues</td>\n",
              "      <td>3</td>\n",
              "    </tr>\n",
              "    <tr>\n",
              "      <th>3</th>\n",
              "      <td>4</td>\n",
              "      <td>4126</td>\n",
              "      <td>0</td>\n",
              "      <td>Jazz</td>\n",
              "      <td>4</td>\n",
              "    </tr>\n",
              "    <tr>\n",
              "      <th>4</th>\n",
              "      <td>5</td>\n",
              "      <td>4106</td>\n",
              "      <td>0</td>\n",
              "      <td>Classical</td>\n",
              "      <td>5</td>\n",
              "    </tr>\n",
              "  </tbody>\n",
              "</table>\n",
              "</div>"
            ],
            "text/plain": [
              "   genre_id  #tracks  parent          title  top_level\n",
              "0         1     8693      38    Avant-Garde         38\n",
              "1         2     5271       0  International          2\n",
              "2         3     1752       0          Blues          3\n",
              "3         4     4126       0           Jazz          4\n",
              "4         5     4106       0      Classical          5"
            ]
          },
          "metadata": {
            "tags": []
          },
          "execution_count": 18
        }
      ]
    },
    {
      "cell_type": "code",
      "metadata": {
        "id": "T6wv_dVmdRtA",
        "colab_type": "code",
        "outputId": "b25ac38e-8724-4f30-cbfc-6b530b119b42",
        "colab": {
          "base_uri": "https://localhost:8080/",
          "height": 258
        }
      },
      "source": [
        "tracks_df = pd.read_csv('tracks.csv' , index_col= 0 , header = [0,1])\n",
        "keep_cols = [('set', 'split'),\n",
        "('set', 'subset'),('track', 'genre_top')]\n",
        "\n",
        "df_all = tracks_df[keep_cols]\n",
        "df_all = df_all[df_all[('set', 'subset')] == 'small']\n",
        "\n",
        "df_all['track_id'] = df_all.index\n",
        "df_all.head()"
      ],
      "execution_count": 18,
      "outputs": [
        {
          "output_type": "execute_result",
          "data": {
            "text/html": [
              "<div>\n",
              "<style scoped>\n",
              "    .dataframe tbody tr th:only-of-type {\n",
              "        vertical-align: middle;\n",
              "    }\n",
              "\n",
              "    .dataframe tbody tr th {\n",
              "        vertical-align: top;\n",
              "    }\n",
              "\n",
              "    .dataframe thead tr th {\n",
              "        text-align: left;\n",
              "    }\n",
              "\n",
              "    .dataframe thead tr:last-of-type th {\n",
              "        text-align: right;\n",
              "    }\n",
              "</style>\n",
              "<table border=\"1\" class=\"dataframe\">\n",
              "  <thead>\n",
              "    <tr>\n",
              "      <th></th>\n",
              "      <th colspan=\"2\" halign=\"left\">set</th>\n",
              "      <th>track</th>\n",
              "      <th>track_id</th>\n",
              "    </tr>\n",
              "    <tr>\n",
              "      <th></th>\n",
              "      <th>split</th>\n",
              "      <th>subset</th>\n",
              "      <th>genre_top</th>\n",
              "      <th></th>\n",
              "    </tr>\n",
              "    <tr>\n",
              "      <th>track_id</th>\n",
              "      <th></th>\n",
              "      <th></th>\n",
              "      <th></th>\n",
              "      <th></th>\n",
              "    </tr>\n",
              "  </thead>\n",
              "  <tbody>\n",
              "    <tr>\n",
              "      <th>2</th>\n",
              "      <td>training</td>\n",
              "      <td>small</td>\n",
              "      <td>Hip-Hop</td>\n",
              "      <td>2</td>\n",
              "    </tr>\n",
              "    <tr>\n",
              "      <th>5</th>\n",
              "      <td>training</td>\n",
              "      <td>small</td>\n",
              "      <td>Hip-Hop</td>\n",
              "      <td>5</td>\n",
              "    </tr>\n",
              "    <tr>\n",
              "      <th>10</th>\n",
              "      <td>training</td>\n",
              "      <td>small</td>\n",
              "      <td>Pop</td>\n",
              "      <td>10</td>\n",
              "    </tr>\n",
              "    <tr>\n",
              "      <th>140</th>\n",
              "      <td>training</td>\n",
              "      <td>small</td>\n",
              "      <td>Folk</td>\n",
              "      <td>140</td>\n",
              "    </tr>\n",
              "    <tr>\n",
              "      <th>141</th>\n",
              "      <td>training</td>\n",
              "      <td>small</td>\n",
              "      <td>Folk</td>\n",
              "      <td>141</td>\n",
              "    </tr>\n",
              "  </tbody>\n",
              "</table>\n",
              "</div>"
            ],
            "text/plain": [
              "               set            track track_id\n",
              "             split subset genre_top         \n",
              "track_id                                    \n",
              "2         training  small   Hip-Hop        2\n",
              "5         training  small   Hip-Hop        5\n",
              "10        training  small       Pop       10\n",
              "140       training  small      Folk      140\n",
              "141       training  small      Folk      141"
            ]
          },
          "metadata": {
            "tags": []
          },
          "execution_count": 18
        }
      ]
    },
    {
      "cell_type": "code",
      "metadata": {
        "id": "hFyFF7T4dcBO",
        "colab_type": "code",
        "outputId": "773a3ebc-d1dc-4068-e341-97e557a7bd27",
        "colab": {
          "base_uri": "https://localhost:8080/",
          "height": 54
        }
      },
      "source": [
        "df_all[('track' , 'genre_top')].unique()"
      ],
      "execution_count": 19,
      "outputs": [
        {
          "output_type": "execute_result",
          "data": {
            "text/plain": [
              "array(['Hip-Hop', 'Pop', 'Folk', 'Experimental', 'Rock', 'International',\n",
              "       'Electronic', 'Instrumental'], dtype=object)"
            ]
          },
          "metadata": {
            "tags": []
          },
          "execution_count": 19
        }
      ]
    },
    {
      "cell_type": "code",
      "metadata": {
        "id": "agxWfNGljQuP",
        "colab_type": "code",
        "colab": {}
      },
      "source": [
        "def readAudioFile(trackid):\n",
        "  track = '{:06d}'.format(trackid)\n",
        "  return os.path.join('fma_small' , track[:3] , track + '.mp3')"
      ],
      "execution_count": 0,
      "outputs": []
    },
    {
      "cell_type": "code",
      "metadata": {
        "id": "MtoAijdWjMSc",
        "colab_type": "code",
        "colab": {}
      },
      "source": [
        "def createSpectrogram(trackid):\n",
        "  audio = readAudioFile(trackid)\n",
        "  y, sr = librosa.load(audio , duration=2.97)\n",
        "  spect = librosa.feature.melspectrogram(y=y, sr=sr)\n",
        "  return spect"
      ],
      "execution_count": 0,
      "outputs": []
    },
    {
      "cell_type": "code",
      "metadata": {
        "id": "hrUjpGP2kajj",
        "colab_type": "code",
        "colab": {}
      },
      "source": [
        "def plotSpectrogram(trackid):\n",
        "  spectrogram = createSpectrogram(trackid)\n",
        "  print(spectrogram.shape)\n",
        "  librosa.display.specshow(spectrogram , y_axis='mel', x_axis='time')"
      ],
      "execution_count": 0,
      "outputs": []
    },
    {
      "cell_type": "code",
      "metadata": {
        "id": "C4Bg7jpJlLWe",
        "colab_type": "code",
        "colab": {}
      },
      "source": [
        "def getTracks(audio_dir):\n",
        "  tids = []\n",
        "  for _, dirnames, files in os.walk(audio_dir):\n",
        "      if dirnames == []:\n",
        "          tids.extend(int(file[:-4]) for file in files)\n",
        "  return tids"
      ],
      "execution_count": 0,
      "outputs": []
    },
    {
      "cell_type": "code",
      "metadata": {
        "id": "z4rSZPpclSkd",
        "colab_type": "code",
        "colab": {}
      },
      "source": [
        "track_ids = getTracks('fma_small')"
      ],
      "execution_count": 0,
      "outputs": []
    },
    {
      "cell_type": "code",
      "metadata": {
        "id": "GN-zkCEpk2t8",
        "colab_type": "code",
        "colab": {}
      },
      "source": [
        "plotSpectrogram(3400)"
      ],
      "execution_count": 0,
      "outputs": []
    },
    {
      "cell_type": "code",
      "metadata": {
        "id": "jpADQprkqZgq",
        "colab_type": "code",
        "outputId": "5d7ecd28-f465-4592-91c3-2a2794c9a63c",
        "colab": {
          "base_uri": "https://localhost:8080/",
          "height": 35
        }
      },
      "source": [
        "df_train = df_all[df_all[('set', 'split')]=='training']\n",
        "df_valid = df_all[df_all[('set', 'split')]=='validation']\n",
        "df_test = df_all[df_all[('set', 'split')]=='test']\n",
        "\n",
        "print(df_train.shape, df_valid.shape, df_test.shape)"
      ],
      "execution_count": 20,
      "outputs": [
        {
          "output_type": "stream",
          "text": [
            "(6400, 4) (800, 4) (800, 4)\n"
          ],
          "name": "stdout"
        }
      ]
    },
    {
      "cell_type": "code",
      "metadata": {
        "id": "XF5YTLbSiqXq",
        "colab_type": "code",
        "colab": {}
      },
      "source": [
        "def create_dataset(df):\n",
        "  genres = []\n",
        "  X_spect = np.empty((0 , 128 , 128))\n",
        "  count = 0\n",
        "  for index, row in df.iterrows():\n",
        "    try:\n",
        "        count += 1\n",
        "        track_id = int(row['track_id'])\n",
        "        genre = str(row[('track', 'genre_top')])\n",
        "        spect = createSpectrogram(track_id)\n",
        "        X_spect = np.append(X_spect, [spect], axis=0)\n",
        "        genres.append(genre)\n",
        "        if count % 100 == 0:\n",
        "            print(\"Currently processing: \", count)\n",
        "    except:\n",
        "        print(\"Not processed : \" , count)\n",
        "        continue\n",
        "\n",
        "  y_arr = np.array(genres)\n",
        "  return X_spect, y_arr"
      ],
      "execution_count": 0,
      "outputs": []
    },
    {
      "cell_type": "code",
      "metadata": {
        "id": "2M09vJ7dUu4O",
        "colab_type": "code",
        "colab": {
          "base_uri": "https://localhost:8080/",
          "height": 163
        },
        "outputId": "2ed90cf8-8b38-4d7a-ad19-20e487e9f223"
      },
      "source": [
        "X_valid , y_valid = create_dataset(df_valid)"
      ],
      "execution_count": 35,
      "outputs": [
        {
          "output_type": "stream",
          "text": [
            "Currently processing:  100\n",
            "Currently processing:  200\n",
            "Currently processing:  300\n",
            "Currently processing:  400\n",
            "Currently processing:  500\n",
            "Currently processing:  600\n",
            "Currently processing:  700\n",
            "Currently processing:  800\n"
          ],
          "name": "stdout"
        }
      ]
    },
    {
      "cell_type": "code",
      "metadata": {
        "id": "vIW1dTX4q5we",
        "colab_type": "code",
        "colab": {}
      },
      "source": [
        "X_train = create_dataset(df_train)"
      ],
      "execution_count": 0,
      "outputs": []
    },
    {
      "cell_type": "code",
      "metadata": {
        "id": "CbhFjgP_rQ4r",
        "colab_type": "code",
        "outputId": "e2c7e68e-d3ad-4926-8c4e-3c2f2e80206f",
        "colab": {
          "base_uri": "https://localhost:8080/",
          "height": 35
        }
      },
      "source": [
        "X_train.shape"
      ],
      "execution_count": 22,
      "outputs": [
        {
          "output_type": "execute_result",
          "data": {
            "text/plain": [
              "(6394, 128, 128)"
            ]
          },
          "metadata": {
            "tags": []
          },
          "execution_count": 22
        }
      ]
    },
    {
      "cell_type": "code",
      "metadata": {
        "id": "c9aggbz4rg9P",
        "colab_type": "code",
        "colab": {}
      },
      "source": [
        "label_dict = {'Electronic':0, 'Experimental':1, 'Folk':2, 'Hip-Hop':3, \n",
        "               'Instrumental':4,'International':5, 'Pop' :6, 'Rock': 7  }"
      ],
      "execution_count": 0,
      "outputs": []
    },
    {
      "cell_type": "code",
      "metadata": {
        "id": "MFiZQblesK41",
        "colab_type": "code",
        "colab": {}
      },
      "source": [
        "genres = []"
      ],
      "execution_count": 0,
      "outputs": []
    },
    {
      "cell_type": "code",
      "metadata": {
        "id": "1IGILcotqgKe",
        "colab_type": "code",
        "colab": {}
      },
      "source": [
        "for label in y_valid:\n",
        "  genres.append(label_dict[label])"
      ],
      "execution_count": 0,
      "outputs": []
    },
    {
      "cell_type": "code",
      "metadata": {
        "id": "Y_5p_WbplA1E",
        "colab_type": "code",
        "colab": {}
      },
      "source": [
        "y_valid = np.array(genres)"
      ],
      "execution_count": 0,
      "outputs": []
    },
    {
      "cell_type": "code",
      "metadata": {
        "id": "5pFF_4MCqnzI",
        "colab_type": "code",
        "colab": {}
      },
      "source": [
        "labels = np.array(genres)"
      ],
      "execution_count": 0,
      "outputs": []
    },
    {
      "cell_type": "code",
      "metadata": {
        "id": "t-9p1yunuHfb",
        "colab_type": "code",
        "outputId": "869fa652-312c-446b-8f6f-3c78470d8c60",
        "colab": {
          "base_uri": "https://localhost:8080/",
          "height": 33
        }
      },
      "source": [
        "labels.shape"
      ],
      "execution_count": 0,
      "outputs": [
        {
          "output_type": "execute_result",
          "data": {
            "text/plain": [
              "(6394,)"
            ]
          },
          "metadata": {
            "tags": []
          },
          "execution_count": 51
        }
      ]
    },
    {
      "cell_type": "code",
      "metadata": {
        "id": "CUNjN3pDkvwN",
        "colab_type": "code",
        "colab": {
          "base_uri": "https://localhost:8080/",
          "height": 35
        },
        "outputId": "3cadddd0-5a5d-444f-9aa5-45918879312d"
      },
      "source": [
        "y_valid.shape"
      ],
      "execution_count": 42,
      "outputs": [
        {
          "output_type": "execute_result",
          "data": {
            "text/plain": [
              "(800,)"
            ]
          },
          "metadata": {
            "tags": []
          },
          "execution_count": 42
        }
      ]
    },
    {
      "cell_type": "code",
      "metadata": {
        "id": "nqmzzlv4kzjC",
        "colab_type": "code",
        "colab": {}
      },
      "source": [
        "y_valid = tf.keras.utils.to_categorical(y_valid , 8)"
      ],
      "execution_count": 0,
      "outputs": []
    },
    {
      "cell_type": "code",
      "metadata": {
        "id": "0U6vmLaiuRlt",
        "colab_type": "code",
        "colab": {}
      },
      "source": [
        "labels = tf.keras.utils.to_categorical(labels , 8)"
      ],
      "execution_count": 0,
      "outputs": []
    },
    {
      "cell_type": "code",
      "metadata": {
        "id": "N-TxrOP1uYp6",
        "colab_type": "code",
        "outputId": "02fe34f1-7886-4524-da02-eda06218860c",
        "colab": {
          "base_uri": "https://localhost:8080/",
          "height": 33
        }
      },
      "source": [
        "labels[0]"
      ],
      "execution_count": 0,
      "outputs": [
        {
          "output_type": "execute_result",
          "data": {
            "text/plain": [
              "array([0., 0., 0., 1., 0., 0., 0., 0.], dtype=float32)"
            ]
          },
          "metadata": {
            "tags": []
          },
          "execution_count": 54
        }
      ]
    },
    {
      "cell_type": "code",
      "metadata": {
        "id": "UL71HkacvcLb",
        "colab_type": "code",
        "colab": {}
      },
      "source": [
        "def getGenre(prob_vector):\n",
        "  value = np.argmax(prob_vector)\n",
        "  for genre , index in label_dict.items():\n",
        "    if index == value:\n",
        "      return genre"
      ],
      "execution_count": 0,
      "outputs": []
    },
    {
      "cell_type": "code",
      "metadata": {
        "id": "3NrTDI_svutQ",
        "colab_type": "code",
        "outputId": "7c09e824-e1f2-4e75-8f39-c996595931e4",
        "colab": {
          "base_uri": "https://localhost:8080/",
          "height": 35
        }
      },
      "source": [
        "print(getGenre([0., 0., 0., 1., 0., 0., 0., 0.]))"
      ],
      "execution_count": 9,
      "outputs": [
        {
          "output_type": "stream",
          "text": [
            "Hip-Hop\n"
          ],
          "name": "stdout"
        }
      ]
    },
    {
      "cell_type": "code",
      "metadata": {
        "id": "-9Ymzapj3x2I",
        "colab_type": "code",
        "colab": {}
      },
      "source": [
        "labels = np.load('drive/My Drive/labels.npy')"
      ],
      "execution_count": 0,
      "outputs": []
    },
    {
      "cell_type": "code",
      "metadata": {
        "id": "RgpIPDb-w94K",
        "colab_type": "code",
        "outputId": "fbbdebf1-9dec-4d07-e37b-c781326f3766",
        "colab": {
          "base_uri": "https://localhost:8080/",
          "height": 728
        }
      },
      "source": [
        "z = 0\n",
        "fig , ax = plt.subplots(3 , 2 , figsize=(10 , 10))\n",
        "fig.tight_layout()\n",
        "for i in range(0,3):\n",
        "  for j in range(0,2):\n",
        "    plt.subplot(3 , 2 , z+1)\n",
        "    librosa.display.specshow(X_train[z])\n",
        "    plt.title(getGenre(labels[z]))\n",
        "    z = z + 1\n",
        "  "
      ],
      "execution_count": 26,
      "outputs": [
        {
          "output_type": "display_data",
          "data": {
            "image/png": "[encoded data removed]",
            "text/plain": [
              "<Figure size 720x720 with 6 Axes>"
            ]
          },
          "metadata": {
            "tags": []
          }
        }
      ]
    },
    {
      "cell_type": "code",
      "metadata": {
        "id": "rxfBDeikwaPQ",
        "colab_type": "code",
        "colab": {}
      },
      "source": [
        "np.save('spectrograms.npy' , X_train)\n",
        "np.save('labels.npy' , labels)"
      ],
      "execution_count": 0,
      "outputs": []
    },
    {
      "cell_type": "code",
      "metadata": {
        "id": "L37vvNO3EMgv",
        "colab_type": "code",
        "colab": {}
      },
      "source": [
        "!cp labels.npy drive/My\\ Drive/"
      ],
      "execution_count": 0,
      "outputs": []
    },
    {
      "cell_type": "code",
      "metadata": {
        "id": "uJC-Zfcu1Nzh",
        "colab_type": "code",
        "colab": {}
      },
      "source": [
        "X_valid = np.array([x.reshape((128 , 128 , 1)) for x in X_valid])"
      ],
      "execution_count": 0,
      "outputs": []
    },
    {
      "cell_type": "code",
      "metadata": {
        "id": "Tf9ClBoo2JmW",
        "colab_type": "code",
        "outputId": "b6f55af1-4c7b-4bdc-b55f-38cac450d376",
        "colab": {
          "base_uri": "https://localhost:8080/",
          "height": 35
        }
      },
      "source": [
        "X_valid.shape"
      ],
      "execution_count": 40,
      "outputs": [
        {
          "output_type": "execute_result",
          "data": {
            "text/plain": [
              "(800, 128, 128, 1)"
            ]
          },
          "metadata": {
            "tags": []
          },
          "execution_count": 40
        }
      ]
    },
    {
      "cell_type": "code",
      "metadata": {
        "id": "SQucaoac2040",
        "colab_type": "code",
        "colab": {}
      },
      "source": [
        "model = tf.keras.Sequential()\n",
        "input_shape = (128 , 128 , 1)\n",
        "\n",
        "model.add(tf.keras.layers.Conv2D(24 , (5 , 5) , strides=(1 , 1) , input_shape=input_shape))\n",
        "model.add(tf.keras.layers.MaxPooling2D((4,2) , strides=(4 , 2)))\n",
        "model.add(tf.keras.layers.Activation('relu'))\n",
        "\n",
        "model.add(tf.keras.layers.Conv2D(48 , (5 , 5) , padding='valid'))\n",
        "model.add(tf.keras.layers.MaxPooling2D((4 , 2) , strides=(4 , 2)))\n",
        "model.add(tf.keras.layers.Activation('relu'))\n",
        "\n",
        "model.add(tf.keras.layers.Conv2D(48 , (5 , 5) , padding='valid'))\n",
        "model.add(tf.keras.layers.Activation('relu'))\n",
        "\n",
        "model.add(tf.keras.layers.Flatten())\n",
        "model.add(tf.keras.layers.Dropout(0.5))\n",
        "\n",
        "model.add(tf.keras.layers.Dense(64))\n",
        "model.add(tf.keras.layers.Activation('relu'))\n",
        "model.add(tf.keras.layers.Dropout(0.5))\n",
        "\n",
        "model.add(tf.keras.layers.Dense(8))\n",
        "model.add(tf.keras.layers.Activation('softmax'))"
      ],
      "execution_count": 0,
      "outputs": []
    },
    {
      "cell_type": "code",
      "metadata": {
        "id": "Wbgb0Ij43Sb6",
        "colab_type": "code",
        "outputId": "52a980a5-b237-45d6-cbc7-cc27b13a3f4d",
        "colab": {
          "base_uri": "https://localhost:8080/",
          "height": 708
        }
      },
      "source": [
        "model.summary()"
      ],
      "execution_count": 82,
      "outputs": [
        {
          "output_type": "stream",
          "text": [
            "Model: \"sequential_1\"\n",
            "_________________________________________________________________\n",
            "Layer (type)                 Output Shape              Param #   \n",
            "=================================================================\n",
            "conv2d_3 (Conv2D)            (None, 124, 124, 24)      624       \n",
            "_________________________________________________________________\n",
            "max_pooling2d_2 (MaxPooling2 (None, 31, 62, 24)        0         \n",
            "_________________________________________________________________\n",
            "activation_5 (Activation)    (None, 31, 62, 24)        0         \n",
            "_________________________________________________________________\n",
            "conv2d_4 (Conv2D)            (None, 27, 58, 48)        28848     \n",
            "_________________________________________________________________\n",
            "max_pooling2d_3 (MaxPooling2 (None, 6, 29, 48)         0         \n",
            "_________________________________________________________________\n",
            "activation_6 (Activation)    (None, 6, 29, 48)         0         \n",
            "_________________________________________________________________\n",
            "conv2d_5 (Conv2D)            (None, 2, 25, 48)         57648     \n",
            "_________________________________________________________________\n",
            "activation_7 (Activation)    (None, 2, 25, 48)         0         \n",
            "_________________________________________________________________\n",
            "flatten_1 (Flatten)          (None, 2400)              0         \n",
            "_________________________________________________________________\n",
            "dropout_2 (Dropout)          (None, 2400)              0         \n",
            "_________________________________________________________________\n",
            "dense_2 (Dense)              (None, 64)                153664    \n",
            "_________________________________________________________________\n",
            "activation_8 (Activation)    (None, 64)                0         \n",
            "_________________________________________________________________\n",
            "dropout_3 (Dropout)          (None, 64)                0         \n",
            "_________________________________________________________________\n",
            "dense_3 (Dense)              (None, 8)                 520       \n",
            "_________________________________________________________________\n",
            "activation_9 (Activation)    (None, 8)                 0         \n",
            "=================================================================\n",
            "Total params: 241,304\n",
            "Trainable params: 241,304\n",
            "Non-trainable params: 0\n",
            "_________________________________________________________________\n"
          ],
          "name": "stdout"
        }
      ]
    },
    {
      "cell_type": "code",
      "metadata": {
        "id": "TOoImYObWd3T",
        "colab_type": "code",
        "colab": {}
      },
      "source": [
        "callbacks = [\n",
        "    tf.keras.callbacks.EarlyStopping(patience=10, verbose=1),\n",
        "    tf.keras.callbacks.ReduceLROnPlateau(factor=0.1, patience=10, min_lr=0.00001, verbose=1),\n",
        "    tf.keras.callbacks.ModelCheckpoint('model.h5', verbose=1, save_best_only=True, save_weights_only=True),\n",
        "]"
      ],
      "execution_count": 0,
      "outputs": []
    },
    {
      "cell_type": "code",
      "metadata": {
        "id": "xuVByM0U4-aP",
        "colab_type": "code",
        "colab": {}
      },
      "source": [
        "model.compile(\n",
        "    optimizer='Adam',\n",
        "    loss='categorical_crossentropy',\n",
        "    metrics = ['accuracy']\n",
        ")"
      ],
      "execution_count": 0,
      "outputs": []
    },
    {
      "cell_type": "code",
      "metadata": {
        "id": "ike-yRIi5TpY",
        "colab_type": "code",
        "outputId": "c2473d1e-eb2d-4a8c-ac33-572f8dcfd774",
        "colab": {
          "base_uri": "https://localhost:8080/",
          "height": 1000
        }
      },
      "source": [
        "model.fit(\n",
        "    x=X_train,\n",
        "    y=labels,\n",
        "    epochs=50,\n",
        "    batch_size=128,\n",
        "    validation_data=(X_valid , y_valid),\n",
        "    callbacks=callbacks,\n",
        ")"
      ],
      "execution_count": 48,
      "outputs": [
        {
          "output_type": "stream",
          "text": [
            "WARNING: Logging before flag parsing goes to stderr.\n",
            "W0709 16:32:47.118226 140459465447296 deprecation.py:323] From /usr/local/lib/python3.6/dist-packages/tensorflow/python/ops/math_grad.py:1250: add_dispatch_support.<locals>.wrapper (from tensorflow.python.ops.array_ops) is deprecated and will be removed in a future version.\n",
            "Instructions for updating:\n",
            "Use tf.where in 2.0, which has the same broadcast rule as np.where\n"
          ],
          "name": "stderr"
        },
        {
          "output_type": "stream",
          "text": [
            "Train on 6394 samples, validate on 800 samples\n",
            "Epoch 1/50\n",
            "6272/6394 [============================>.] - ETA: 1s - loss: 3.4842 - accuracy: 0.1440\n",
            "Epoch 00001: val_loss improved from inf to 2.07237, saving model to model.h5\n",
            "6394/6394 [==============================] - 86s 13ms/sample - loss: 3.4572 - accuracy: 0.1444 - val_loss: 2.0724 - val_accuracy: 0.1400\n",
            "Epoch 2/50\n",
            "6272/6394 [============================>.] - ETA: 1s - loss: 2.0815 - accuracy: 0.1617\n",
            "Epoch 00002: val_loss improved from 2.07237 to 2.05376, saving model to model.h5\n",
            "6394/6394 [==============================] - 84s 13ms/sample - loss: 2.0811 - accuracy: 0.1623 - val_loss: 2.0538 - val_accuracy: 0.1863\n",
            "Epoch 3/50\n",
            "6272/6394 [============================>.] - ETA: 1s - loss: 2.0559 - accuracy: 0.1819\n",
            "Epoch 00003: val_loss improved from 2.05376 to 2.01450, saving model to model.h5\n",
            "6394/6394 [==============================] - 84s 13ms/sample - loss: 2.0540 - accuracy: 0.1836 - val_loss: 2.0145 - val_accuracy: 0.2138\n",
            "Epoch 4/50\n",
            "6272/6394 [============================>.] - ETA: 1s - loss: 2.0166 - accuracy: 0.2090\n",
            "Epoch 00004: val_loss improved from 2.01450 to 1.96949, saving model to model.h5\n",
            "6394/6394 [==============================] - 84s 13ms/sample - loss: 2.0167 - accuracy: 0.2091 - val_loss: 1.9695 - val_accuracy: 0.2463\n",
            "Epoch 5/50\n",
            "6272/6394 [============================>.] - ETA: 1s - loss: 1.9666 - accuracy: 0.2298\n",
            "Epoch 00005: val_loss improved from 1.96949 to 1.93177, saving model to model.h5\n",
            "6394/6394 [==============================] - 84s 13ms/sample - loss: 1.9669 - accuracy: 0.2293 - val_loss: 1.9318 - val_accuracy: 0.2475\n",
            "Epoch 6/50\n",
            "6272/6394 [============================>.] - ETA: 1s - loss: 1.9348 - accuracy: 0.2522\n",
            "Epoch 00006: val_loss improved from 1.93177 to 1.85219, saving model to model.h5\n",
            "6394/6394 [==============================] - 84s 13ms/sample - loss: 1.9345 - accuracy: 0.2520 - val_loss: 1.8522 - val_accuracy: 0.2625\n",
            "Epoch 7/50\n",
            "6272/6394 [============================>.] - ETA: 1s - loss: 1.8826 - accuracy: 0.2757\n",
            "Epoch 00007: val_loss improved from 1.85219 to 1.82609, saving model to model.h5\n",
            "6394/6394 [==============================] - 84s 13ms/sample - loss: 1.8814 - accuracy: 0.2751 - val_loss: 1.8261 - val_accuracy: 0.2675\n",
            "Epoch 8/50\n",
            "6272/6394 [============================>.] - ETA: 1s - loss: 1.8587 - accuracy: 0.2986\n",
            "Epoch 00008: val_loss improved from 1.82609 to 1.81861, saving model to model.h5\n",
            "6394/6394 [==============================] - 84s 13ms/sample - loss: 1.8581 - accuracy: 0.2982 - val_loss: 1.8186 - val_accuracy: 0.2950\n",
            "Epoch 9/50\n",
            "6272/6394 [============================>.] - ETA: 1s - loss: 1.8324 - accuracy: 0.3036\n",
            "Epoch 00009: val_loss did not improve from 1.81861\n",
            "6394/6394 [==============================] - 84s 13ms/sample - loss: 1.8311 - accuracy: 0.3033 - val_loss: 1.8360 - val_accuracy: 0.2612\n",
            "Epoch 10/50\n",
            "6272/6394 [============================>.] - ETA: 1s - loss: 1.8043 - accuracy: 0.3160\n",
            "Epoch 00010: val_loss improved from 1.81861 to 1.80956, saving model to model.h5\n",
            "6394/6394 [==============================] - 84s 13ms/sample - loss: 1.8042 - accuracy: 0.3158 - val_loss: 1.8096 - val_accuracy: 0.2688\n",
            "Epoch 11/50\n",
            "6272/6394 [============================>.] - ETA: 1s - loss: 1.7895 - accuracy: 0.3304\n",
            "Epoch 00011: val_loss did not improve from 1.80956\n",
            "6394/6394 [==============================] - 84s 13ms/sample - loss: 1.7891 - accuracy: 0.3297 - val_loss: 1.8189 - val_accuracy: 0.2875\n",
            "Epoch 12/50\n",
            "6272/6394 [============================>.] - ETA: 1s - loss: 1.7603 - accuracy: 0.3367\n",
            "Epoch 00012: val_loss improved from 1.80956 to 1.75153, saving model to model.h5\n",
            "6394/6394 [==============================] - 84s 13ms/sample - loss: 1.7595 - accuracy: 0.3373 - val_loss: 1.7515 - val_accuracy: 0.3350\n",
            "Epoch 13/50\n",
            "6272/6394 [============================>.] - ETA: 1s - loss: 1.7367 - accuracy: 0.3512\n",
            "Epoch 00013: val_loss did not improve from 1.75153\n",
            "6394/6394 [==============================] - 84s 13ms/sample - loss: 1.7344 - accuracy: 0.3511 - val_loss: 1.7545 - val_accuracy: 0.3400\n",
            "Epoch 14/50\n",
            "6272/6394 [============================>.] - ETA: 1s - loss: 1.6942 - accuracy: 0.3678\n",
            "Epoch 00014: val_loss improved from 1.75153 to 1.72956, saving model to model.h5\n",
            "6394/6394 [==============================] - 84s 13ms/sample - loss: 1.6935 - accuracy: 0.3675 - val_loss: 1.7296 - val_accuracy: 0.3438\n",
            "Epoch 15/50\n",
            "6272/6394 [============================>.] - ETA: 1s - loss: 1.6887 - accuracy: 0.3831\n",
            "Epoch 00015: val_loss did not improve from 1.72956\n",
            "6394/6394 [==============================] - 83s 13ms/sample - loss: 1.6886 - accuracy: 0.3827 - val_loss: 1.7670 - val_accuracy: 0.3438\n",
            "Epoch 16/50\n",
            "6272/6394 [============================>.] - ETA: 1s - loss: 1.6542 - accuracy: 0.3870\n",
            "Epoch 00016: val_loss did not improve from 1.72956\n",
            "6394/6394 [==============================] - 84s 13ms/sample - loss: 1.6574 - accuracy: 0.3844 - val_loss: 1.8137 - val_accuracy: 0.2975\n",
            "Epoch 17/50\n",
            "6272/6394 [============================>.] - ETA: 1s - loss: 1.6370 - accuracy: 0.3954\n",
            "Epoch 00017: val_loss did not improve from 1.72956\n",
            "6394/6394 [==============================] - 84s 13ms/sample - loss: 1.6367 - accuracy: 0.3944 - val_loss: 1.8152 - val_accuracy: 0.3413\n",
            "Epoch 18/50\n",
            "6272/6394 [============================>.] - ETA: 1s - loss: 1.6651 - accuracy: 0.3870\n",
            "Epoch 00018: val_loss improved from 1.72956 to 1.70977, saving model to model.h5\n",
            "6394/6394 [==============================] - 84s 13ms/sample - loss: 1.6649 - accuracy: 0.3863 - val_loss: 1.7098 - val_accuracy: 0.3837\n",
            "Epoch 19/50\n",
            "6272/6394 [============================>.] - ETA: 1s - loss: 1.6069 - accuracy: 0.4072\n",
            "Epoch 00019: val_loss did not improve from 1.70977\n",
            "6394/6394 [==============================] - 84s 13ms/sample - loss: 1.6079 - accuracy: 0.4065 - val_loss: 1.7220 - val_accuracy: 0.3887\n",
            "Epoch 20/50\n",
            "6272/6394 [============================>.] - ETA: 1s - loss: 1.5734 - accuracy: 0.4190\n",
            "Epoch 00020: val_loss did not improve from 1.70977\n",
            "6394/6394 [==============================] - 83s 13ms/sample - loss: 1.5734 - accuracy: 0.4185 - val_loss: 1.7165 - val_accuracy: 0.4087\n",
            "Epoch 21/50\n",
            "6272/6394 [============================>.] - ETA: 1s - loss: 1.5578 - accuracy: 0.4267\n",
            "Epoch 00021: val_loss improved from 1.70977 to 1.69949, saving model to model.h5\n",
            "6394/6394 [==============================] - 84s 13ms/sample - loss: 1.5589 - accuracy: 0.4266 - val_loss: 1.6995 - val_accuracy: 0.3487\n",
            "Epoch 22/50\n",
            "6272/6394 [============================>.] - ETA: 1s - loss: 1.5546 - accuracy: 0.4311\n",
            "Epoch 00022: val_loss did not improve from 1.69949\n",
            "6394/6394 [==============================] - 84s 13ms/sample - loss: 1.5544 - accuracy: 0.4318 - val_loss: 1.7201 - val_accuracy: 0.3725\n",
            "Epoch 23/50\n",
            "6272/6394 [============================>.] - ETA: 1s - loss: 1.5071 - accuracy: 0.4482\n",
            "Epoch 00023: val_loss did not improve from 1.69949\n",
            "6394/6394 [==============================] - 84s 13ms/sample - loss: 1.5100 - accuracy: 0.4471 - val_loss: 1.7360 - val_accuracy: 0.4013\n",
            "Epoch 24/50\n",
            "6272/6394 [============================>.] - ETA: 1s - loss: 1.5005 - accuracy: 0.4544\n",
            "Epoch 00024: val_loss did not improve from 1.69949\n",
            "6394/6394 [==============================] - 84s 13ms/sample - loss: 1.5006 - accuracy: 0.4536 - val_loss: 1.7390 - val_accuracy: 0.3925\n",
            "Epoch 25/50\n",
            "6272/6394 [============================>.] - ETA: 1s - loss: 1.4756 - accuracy: 0.4692\n",
            "Epoch 00025: val_loss improved from 1.69949 to 1.68352, saving model to model.h5\n",
            "6394/6394 [==============================] - 84s 13ms/sample - loss: 1.4736 - accuracy: 0.4698 - val_loss: 1.6835 - val_accuracy: 0.3925\n",
            "Epoch 26/50\n",
            "6272/6394 [============================>.] - ETA: 1s - loss: 1.4767 - accuracy: 0.4590\n",
            "Epoch 00026: val_loss did not improve from 1.68352\n",
            "6394/6394 [==============================] - 84s 13ms/sample - loss: 1.4795 - accuracy: 0.4587 - val_loss: 1.7334 - val_accuracy: 0.4000\n",
            "Epoch 27/50\n",
            "6272/6394 [============================>.] - ETA: 1s - loss: 1.4679 - accuracy: 0.4664\n",
            "Epoch 00027: val_loss did not improve from 1.68352\n",
            "6394/6394 [==============================] - 84s 13ms/sample - loss: 1.4666 - accuracy: 0.4664 - val_loss: 1.7067 - val_accuracy: 0.4250\n",
            "Epoch 28/50\n",
            "6272/6394 [============================>.] - ETA: 1s - loss: 1.4269 - accuracy: 0.4845\n",
            "Epoch 00028: val_loss did not improve from 1.68352\n",
            "6394/6394 [==============================] - 84s 13ms/sample - loss: 1.4271 - accuracy: 0.4837 - val_loss: 1.7279 - val_accuracy: 0.3925\n",
            "Epoch 29/50\n",
            "6272/6394 [============================>.] - ETA: 1s - loss: 1.4218 - accuracy: 0.4809\n",
            "Epoch 00029: val_loss did not improve from 1.68352\n",
            "6394/6394 [==============================] - 84s 13ms/sample - loss: 1.4208 - accuracy: 0.4808 - val_loss: 1.7528 - val_accuracy: 0.4000\n",
            "Epoch 30/50\n",
            "6272/6394 [============================>.] - ETA: 1s - loss: 1.4138 - accuracy: 0.4850\n",
            "Epoch 00030: val_loss did not improve from 1.68352\n",
            "6394/6394 [==============================] - 84s 13ms/sample - loss: 1.4171 - accuracy: 0.4847 - val_loss: 1.7557 - val_accuracy: 0.3925\n",
            "Epoch 31/50\n",
            "6272/6394 [============================>.] - ETA: 1s - loss: 1.3787 - accuracy: 0.4973\n",
            "Epoch 00031: val_loss did not improve from 1.68352\n",
            "6394/6394 [==============================] - 84s 13ms/sample - loss: 1.3800 - accuracy: 0.4966 - val_loss: 1.7803 - val_accuracy: 0.3650\n",
            "Epoch 32/50\n",
            "6272/6394 [============================>.] - ETA: 1s - loss: 1.3743 - accuracy: 0.5022\n",
            "Epoch 00032: val_loss did not improve from 1.68352\n",
            "6394/6394 [==============================] - 84s 13ms/sample - loss: 1.3765 - accuracy: 0.5016 - val_loss: 1.7955 - val_accuracy: 0.4075\n",
            "Epoch 33/50\n",
            "6272/6394 [============================>.] - ETA: 1s - loss: 1.3417 - accuracy: 0.5118\n",
            "Epoch 00033: val_loss did not improve from 1.68352\n",
            "6394/6394 [==============================] - 84s 13ms/sample - loss: 1.3446 - accuracy: 0.5099 - val_loss: 1.7643 - val_accuracy: 0.4263\n",
            "Epoch 34/50\n",
            "6272/6394 [============================>.] - ETA: 1s - loss: 1.3444 - accuracy: 0.5172\n",
            "Epoch 00034: val_loss did not improve from 1.68352\n",
            "6394/6394 [==============================] - 84s 13ms/sample - loss: 1.3448 - accuracy: 0.5164 - val_loss: 1.7307 - val_accuracy: 0.4125\n",
            "Epoch 35/50\n",
            "6272/6394 [============================>.] - ETA: 1s - loss: 1.3304 - accuracy: 0.5254\n",
            "Epoch 00035: ReduceLROnPlateau reducing learning rate to 0.00010000000474974513.\n",
            "\n",
            "Epoch 00035: val_loss did not improve from 1.68352\n",
            "6394/6394 [==============================] - 84s 13ms/sample - loss: 1.3286 - accuracy: 0.5261 - val_loss: 1.7977 - val_accuracy: 0.4125\n",
            "Epoch 00035: early stopping\n"
          ],
          "name": "stdout"
        },
        {
          "output_type": "execute_result",
          "data": {
            "text/plain": [
              "<tensorflow.python.keras.callbacks.History at 0x7fbef39f47f0>"
            ]
          },
          "metadata": {
            "tags": []
          },
          "execution_count": 48
        }
      ]
    },
    {
      "cell_type": "code",
      "metadata": {
        "id": "huECGjnR-3Jy",
        "colab_type": "code",
        "colab": {}
      },
      "source": [
        "  for index , row in df_test.iterrows():\n",
        "    track_id = int(row['track_id'])\n",
        "    gen1 = str(row[('track', 'genre_top')])\n",
        "    spect1 = createSpectrogram(track_id)\n",
        "    break"
      ],
      "execution_count": 0,
      "outputs": []
    },
    {
      "cell_type": "code",
      "metadata": {
        "id": "p7Ys369N_bCZ",
        "colab_type": "code",
        "colab": {}
      },
      "source": [
        "test = np.array(specter).reshape((128 , 128 , 1))"
      ],
      "execution_count": 0,
      "outputs": []
    },
    {
      "cell_type": "code",
      "metadata": {
        "id": "hwyUYKr6__r7",
        "colab_type": "code",
        "colab": {}
      },
      "source": [
        "test1 = np.expand_dims(test , axis=0)"
      ],
      "execution_count": 0,
      "outputs": []
    },
    {
      "cell_type": "code",
      "metadata": {
        "id": "RwAODiCmAJum",
        "colab_type": "code",
        "outputId": "21e0c3d4-dc71-4bf8-b2f9-1ddf872ae755",
        "colab": {
          "base_uri": "https://localhost:8080/",
          "height": 35
        }
      },
      "source": [
        "test1.shape"
      ],
      "execution_count": 170,
      "outputs": [
        {
          "output_type": "execute_result",
          "data": {
            "text/plain": [
              "(1, 128, 128, 1)"
            ]
          },
          "metadata": {
            "tags": []
          },
          "execution_count": 170
        }
      ]
    },
    {
      "cell_type": "code",
      "metadata": {
        "id": "KUVYTCWX5nHW",
        "colab_type": "code",
        "colab": {}
      },
      "source": [
        "res = model.predict(test2)"
      ],
      "execution_count": 0,
      "outputs": []
    },
    {
      "cell_type": "code",
      "metadata": {
        "id": "iL7VxkPE_8TO",
        "colab_type": "code",
        "outputId": "329fcfcc-3bdf-4a3a-ee72-27be7b335361",
        "colab": {
          "base_uri": "https://localhost:8080/",
          "height": 35
        }
      },
      "source": [
        "getGenre(res)"
      ],
      "execution_count": 197,
      "outputs": [
        {
          "output_type": "execute_result",
          "data": {
            "text/plain": [
              "'Pop'"
            ]
          },
          "metadata": {
            "tags": []
          },
          "execution_count": 197
        }
      ]
    },
    {
      "cell_type": "code",
      "metadata": {
        "id": "g1RBNEHjC9cK",
        "colab_type": "code",
        "colab": {}
      },
      "source": [
        "def getGenreFromValue(value):\n",
        "  for i , j in label_dict.items():\n",
        "    if j == value:\n",
        "      return i\n",
        "    "
      ],
      "execution_count": 0,
      "outputs": []
    },
    {
      "cell_type": "code",
      "metadata": {
        "id": "03YEq9NJAPSc",
        "colab_type": "code",
        "outputId": "2e57dc84-6130-4c68-a0b3-bd2d396f6e27",
        "colab": {
          "base_uri": "https://localhost:8080/",
          "height": 308
        }
      },
      "source": [
        "for i in range(0,8):\n",
        "  print('{} : {}\\n'.format(getGenreFromValue(i) , res[0][i]))"
      ],
      "execution_count": 198,
      "outputs": [
        {
          "output_type": "stream",
          "text": [
            "Electronic : 0.09282361716032028\n",
            "\n",
            "Experimental : 0.04594282805919647\n",
            "\n",
            "Folk : 0.08038511127233505\n",
            "\n",
            "Hip-Hop : 0.051831576973199844\n",
            "\n",
            "Instrumental : 0.02783791720867157\n",
            "\n",
            "International : 0.10592349618673325\n",
            "\n",
            "Pop : 0.3225657045841217\n",
            "\n",
            "Rock : 0.2726898193359375\n",
            "\n"
          ],
          "name": "stdout"
        }
      ]
    },
    {
      "cell_type": "code",
      "metadata": {
        "id": "LXhjDvTkAVVD",
        "colab_type": "code",
        "colab": {}
      },
      "source": [
        "y, sr = librosa.load('Coldplay - Hymn For The Weekend (Official Video).mp3' , offset=120.0 , duration=2.97)\n",
        "specter = librosa.feature.melspectrogram(y=y, sr=sr)"
      ],
      "execution_count": 0,
      "outputs": []
    },
    {
      "cell_type": "code",
      "metadata": {
        "id": "6Dq3dUrjBUun",
        "colab_type": "code",
        "colab": {}
      },
      "source": [
        "model.save('genre-model.h5')"
      ],
      "execution_count": 0,
      "outputs": []
    },
    {
      "cell_type": "code",
      "metadata": {
        "id": "iRdID1qY4T21",
        "colab_type": "code",
        "colab": {}
      },
      "source": [
        "model = tf.keras.models.load_model('genre-model.h5')"
      ],
      "execution_count": 0,
      "outputs": []
    },
    {
      "cell_type": "code",
      "metadata": {
        "id": "HgrtJu_34og2",
        "colab_type": "code",
        "colab": {}
      },
      "source": [
        "model.load_weights('model.h5')"
      ],
      "execution_count": 0,
      "outputs": []
    },
    {
      "cell_type": "code",
      "metadata": {
        "id": "BDS38YI26RZJ",
        "colab_type": "code",
        "colab": {
          "base_uri": "https://localhost:8080/",
          "height": 35
        },
        "outputId": "ab872e50-8925-40e9-86f4-b0635e0995b2"
      },
      "source": [
        "model.outputs"
      ],
      "execution_count": 178,
      "outputs": [
        {
          "output_type": "execute_result",
          "data": {
            "text/plain": [
              "[<tf.Tensor 'activation_4_2/Identity:0' shape=(None, 8) dtype=float32>]"
            ]
          },
          "metadata": {
            "tags": []
          },
          "execution_count": 178
        }
      ]
    },
    {
      "cell_type": "code",
      "metadata": {
        "id": "YJJENlB2FS6-",
        "colab_type": "code",
        "colab": {}
      },
      "source": [
        "tf.saved_model.save(model , \"/tmp/genre/1/\")"
      ],
      "execution_count": 0,
      "outputs": []
    },
    {
      "cell_type": "code",
      "metadata": {
        "id": "-4Ir-HT9Fdgn",
        "colab_type": "code",
        "colab": {
          "base_uri": "https://localhost:8080/",
          "height": 217
        },
        "outputId": "d470c467-3a85-42e3-8fe2-6ad6146e2a51"
      },
      "source": [
        "!saved_model_cli show --dir /tmp/genre/1 --tag_set serve --signature_def serving_default"
      ],
      "execution_count": 185,
      "outputs": [
        {
          "output_type": "stream",
          "text": [
            "The given SavedModel SignatureDef contains the following input(s):\n",
            "  inputs['conv2d_input'] tensor_info:\n",
            "      dtype: DT_FLOAT\n",
            "      shape: (-1, 128, 128, 1)\n",
            "      name: serving_default_conv2d_input:0\n",
            "The given SavedModel SignatureDef contains the following output(s):\n",
            "  outputs['activation_4'] tensor_info:\n",
            "      dtype: DT_FLOAT\n",
            "      shape: (-1, 8)\n",
            "      name: StatefulPartitionedCall:0\n",
            "Method name is: tensorflow/serving/predict\n"
          ],
          "name": "stdout"
        }
      ]
    },
    {
      "cell_type": "code",
      "metadata": {
        "id": "79uG1cTbHAn1",
        "colab_type": "code",
        "colab": {
          "base_uri": "https://localhost:8080/",
          "height": 35
        },
        "outputId": "173928e5-2372-4f71-f6d0-1be1de455014"
      },
      "source": [
        "loaded = tf.saved_model.load(\"/tmp/genre/1/\")\n",
        "print(list(loaded.signatures.keys())) "
      ],
      "execution_count": 186,
      "outputs": [
        {
          "output_type": "stream",
          "text": [
            "['serving_default']\n"
          ],
          "name": "stdout"
        }
      ]
    },
    {
      "cell_type": "code",
      "metadata": {
        "id": "HMhsXAfpHM1Q",
        "colab_type": "code",
        "colab": {
          "base_uri": "https://localhost:8080/",
          "height": 35
        },
        "outputId": "b5ef5929-4903-4668-e256-03c997c05676"
      },
      "source": [
        "infer = loaded.signatures[\"serving_default\"]\n",
        "print(infer.structured_outputs)"
      ],
      "execution_count": 187,
      "outputs": [
        {
          "output_type": "stream",
          "text": [
            "{'activation_4': TensorSpec(shape=(None, 8), dtype=tf.float32, name='activation_4')}\n"
          ],
          "name": "stdout"
        }
      ]
    },
    {
      "cell_type": "code",
      "metadata": {
        "id": "TKbE78QUHtQo",
        "colab_type": "code",
        "colab": {
          "base_uri": "https://localhost:8080/",
          "height": 35
        },
        "outputId": "11bbc14c-daed-468e-d807-aabe1fb55e73"
      },
      "source": [
        "model.output_names[0]"
      ],
      "execution_count": 188,
      "outputs": [
        {
          "output_type": "execute_result",
          "data": {
            "text/plain": [
              "'activation_4'"
            ]
          },
          "metadata": {
            "tags": []
          },
          "execution_count": 188
        }
      ]
    },
    {
      "cell_type": "code",
      "metadata": {
        "id": "Q3blYzRcIJ36",
        "colab_type": "code",
        "colab": {}
      },
      "source": [
        "test2 = test1.astype('float32')"
      ],
      "execution_count": 0,
      "outputs": []
    },
    {
      "cell_type": "code",
      "metadata": {
        "id": "ZAQFC0RFIZUX",
        "colab_type": "code",
        "colab": {
          "base_uri": "https://localhost:8080/",
          "height": 35
        },
        "outputId": "7961a580-dbf9-4cc7-cb7c-72b7a200c0f7"
      },
      "source": [
        "test2.shape"
      ],
      "execution_count": 209,
      "outputs": [
        {
          "output_type": "execute_result",
          "data": {
            "text/plain": [
              "(1, 128, 128, 1)"
            ]
          },
          "metadata": {
            "tags": []
          },
          "execution_count": 209
        }
      ]
    },
    {
      "cell_type": "code",
      "metadata": {
        "id": "gBjDJ5YWHQgQ",
        "colab_type": "code",
        "colab": {}
      },
      "source": [
        "labeling = infer(tf.constant(test2))[model.output_names[0]]"
      ],
      "execution_count": 0,
      "outputs": []
    },
    {
      "cell_type": "code",
      "metadata": {
        "id": "UjLttAzgHwLd",
        "colab_type": "code",
        "colab": {
          "base_uri": "https://localhost:8080/",
          "height": 35
        },
        "outputId": "5706bf63-6a0e-4b18-a472-77e640afacd5"
      },
      "source": [
        "getGenre(labeling)"
      ],
      "execution_count": 211,
      "outputs": [
        {
          "output_type": "execute_result",
          "data": {
            "text/plain": [
              "'Pop'"
            ]
          },
          "metadata": {
            "tags": []
          },
          "execution_count": 211
        }
      ]
    },
    {
      "cell_type": "code",
      "metadata": {
        "id": "9nSgxfLXIuxy",
        "colab_type": "code",
        "colab": {}
      },
      "source": [
        "!nohup tensorflow_model_server \\\n",
        "  --rest_api_port=8501 \\\n",
        "  --model_name=genre \\\n",
        "  --model_base_path=\"/tmp/genre\" >server.log 2>&1"
      ],
      "execution_count": 0,
      "outputs": []
    },
    {
      "cell_type": "code",
      "metadata": {
        "id": "pu9ZWO-MI8HV",
        "colab_type": "code",
        "colab": {}
      },
      "source": [
        "!pip install -q requests\n",
        "import json\n",
        "import numpy\n",
        "import requests\n",
        "data = json.dumps({\"signature_name\": \"serving_default\",\n",
        "                   \"instances\": test2.tolist()})\n",
        "headers = {\"content-type\": \"application/json\"}\n",
        "json_response = requests.post('http://localhost:8501/v1/models/genre:predict',\n",
        "                              data=data, headers=headers)\n",
        "predictions = numpy.array(json.loads(json_response.text)[\"predictions\"])"
      ],
      "execution_count": 0,
      "outputs": []
    },
    {
      "cell_type": "code",
      "metadata": {
        "id": "QotL1ZYtLMCF",
        "colab_type": "code",
        "colab": {}
      },
      "source": [
        "import subprocess"
      ],
      "execution_count": 0,
      "outputs": []
    },
    {
      "cell_type": "code",
      "metadata": {
        "id": "DTtq4Ft8JVcI",
        "colab_type": "code",
        "colab": {}
      },
      "source": [
        "!echo \"deb http://storage.googleapis.com/tensorflow-serving-apt stable tensorflow-model-server tensorflow-model-server-universal\" | tee /etc/apt/sources.list.d/tensorflow-serving.list && curl https://storage.googleapis.com/tensorflow-serving-apt/tensorflow-serving.release.pub.gpg | apt-key add -\n",
        "!apt update"
      ],
      "execution_count": 0,
      "outputs": []
    },
    {
      "cell_type": "code",
      "metadata": {
        "id": "sOZHhMvLJ-gr",
        "colab_type": "code",
        "colab": {
          "base_uri": "https://localhost:8080/",
          "height": 90
        },
        "outputId": "34bfcfbf-211b-48be-d06c-476ebdd9d5ba"
      },
      "source": [
        "!apt-get install tensorflow-model-server\n"
      ],
      "execution_count": 216,
      "outputs": [
        {
          "output_type": "stream",
          "text": [
            "Reading package lists... Done\n",
            "Building dependency tree       \n",
            "Reading state information... Done\n",
            "E: Unable to locate package tensorflow-model-server\n"
          ],
          "name": "stdout"
        }
      ]
    },
    {
      "cell_type": "code",
      "metadata": {
        "id": "oYb50na-KIdE",
        "colab_type": "code",
        "colab": {}
      },
      "source": [
        "!cp -r /tmp /content/drive/My\\ Drive/"
      ],
      "execution_count": 0,
      "outputs": []
    },
    {
      "cell_type": "code",
      "metadata": {
        "id": "d5wFo3hDMs04",
        "colab_type": "code",
        "colab": {}
      },
      "source": [
        ""
      ],
      "execution_count": 0,
      "outputs": []
    }
  ]
}